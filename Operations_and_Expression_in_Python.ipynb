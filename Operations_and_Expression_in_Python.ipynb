{
  "nbformat": 4,
  "nbformat_minor": 0,
  "metadata": {
    "colab": {
      "name": "Operations and Expression in Python",
      "provenance": [],
      "authorship_tag": "ABX9TyPuUDFFGqtN2iya3TpQLkrc",
      "include_colab_link": true
    },
    "kernelspec": {
      "name": "python3",
      "display_name": "Python 3"
    },
    "language_info": {
      "name": "python"
    }
  },
  "cells": [
    {
      "cell_type": "markdown",
      "metadata": {
        "id": "view-in-github",
        "colab_type": "text"
      },
      "source": [
        "<a href=\"https://colab.research.google.com/github/fernandoBjr/CPEN-21A-ECE-2-2/blob/main/Operations_and_Expression_in_Python.ipynb\" target=\"_parent\"><img src=\"https://colab.research.google.com/assets/colab-badge.svg\" alt=\"Open In Colab\"/></a>"
      ]
    },
    {
      "cell_type": "markdown",
      "metadata": {
        "id": "Hdu7n1YC7G6j"
      },
      "source": [
        "#**Boolean Operators**"
      ]
    },
    {
      "cell_type": "code",
      "metadata": {
        "colab": {
          "base_uri": "https://localhost:8080/"
        },
        "id": "gDKVQVhr7V4I",
        "outputId": "6160b3c0-7350-4606-8e02-bddd1ecbccf0"
      },
      "source": [
        "a=10\n",
        "b=9\n",
        "c=8\n",
        "\n",
        "c=print(a>b)\n",
        "\n",
        "c\n"
      ],
      "execution_count": 1,
      "outputs": [
        {
          "output_type": "stream",
          "name": "stdout",
          "text": [
            "True\n"
          ]
        }
      ]
    },
    {
      "cell_type": "code",
      "metadata": {
        "colab": {
          "base_uri": "https://localhost:8080/"
        },
        "id": "08Hp0qZe730_",
        "outputId": "1b625538-0cdf-418b-9d74-3ebf43e409e5"
      },
      "source": [
        "print(bool(\"Hello\"))\n",
        "print(bool(15))\n",
        "print(bool(True))\n",
        "print(bool(False))\n",
        "print(bool(1))\n",
        "print(bool(0))\n",
        "print(bool(None))\n",
        "print(bool([]))\n"
      ],
      "execution_count": 3,
      "outputs": [
        {
          "output_type": "stream",
          "name": "stdout",
          "text": [
            "True\n",
            "True\n",
            "True\n",
            "False\n",
            "True\n",
            "False\n",
            "False\n",
            "False\n"
          ]
        }
      ]
    },
    {
      "cell_type": "code",
      "metadata": {
        "colab": {
          "base_uri": "https://localhost:8080/"
        },
        "id": "K7PVWNgi8nDe",
        "outputId": "1209f82f-4274-466f-932c-439c2b777b8e"
      },
      "source": [
        "def myFunction():return True\n",
        "print(myFunction())"
      ],
      "execution_count": 4,
      "outputs": [
        {
          "output_type": "stream",
          "name": "stdout",
          "text": [
            "True\n"
          ]
        }
      ]
    },
    {
      "cell_type": "code",
      "metadata": {
        "colab": {
          "base_uri": "https://localhost:8080/"
        },
        "id": "2S8Vde568p-_",
        "outputId": "b0bf73ee-2080-48ca-eb87-cc815dc4a572"
      },
      "source": [
        "def myFunction():return True\n",
        "if myFunction():\n",
        " print(\"True\")\n",
        "else:\n",
        " print(\"False\")"
      ],
      "execution_count": 5,
      "outputs": [
        {
          "output_type": "stream",
          "name": "stdout",
          "text": [
            "True\n"
          ]
        }
      ]
    },
    {
      "cell_type": "code",
      "metadata": {
        "colab": {
          "base_uri": "https://localhost:8080/"
        },
        "id": "IGIFfiq78sAK",
        "outputId": "375b2df0-253c-461e-9fcd-57f95db08c7a"
      },
      "source": [
        "print(10>9)\n",
        "a=6 # 0000 0110\n",
        "b=7 # 0000 0111\n",
        "print(a==b)\n",
        "print(a!=a)\n",
        "print(6==6)"
      ],
      "execution_count": 6,
      "outputs": [
        {
          "output_type": "stream",
          "name": "stdout",
          "text": [
            "True\n",
            "False\n",
            "False\n",
            "True\n"
          ]
        }
      ]
    },
    {
      "cell_type": "markdown",
      "metadata": {
        "id": "Coy9PIlZ8y2s"
      },
      "source": [
        "#**Python Operators**"
      ]
    },
    {
      "cell_type": "code",
      "metadata": {
        "colab": {
          "base_uri": "https://localhost:8080/"
        },
        "id": "lHtVNa5c87Y6",
        "outputId": "65e0a026-fb84-439e-8ee9-c1149177ce3f"
      },
      "source": [
        "print(10+5)\n",
        "print(10-5)\n",
        "print(10/5)\n",
        "print(10*5)\n",
        "print(10%5)\n",
        "print(10//3)\n",
        "print(10**2)"
      ],
      "execution_count": 7,
      "outputs": [
        {
          "output_type": "stream",
          "name": "stdout",
          "text": [
            "15\n",
            "5\n",
            "2.0\n",
            "50\n",
            "0\n",
            "3\n",
            "100\n"
          ]
        }
      ]
    },
    {
      "cell_type": "markdown",
      "metadata": {
        "id": "PKkmY9cK8-KW"
      },
      "source": [
        "#**Bitwise Operation**"
      ]
    },
    {
      "cell_type": "code",
      "metadata": {
        "colab": {
          "base_uri": "https://localhost:8080/"
        },
        "id": "nhtzoqn-9CTP",
        "outputId": "708ada43-01bb-4bc5-8dba-1bba93ea028d"
      },
      "source": [
        "a=60 #0048 4800\n",
        "b=13 # 0000 4800 \n",
        "\n",
        "print(a^b)\n",
        "print(~a)\n",
        "print(a<<2)\n",
        "print(a>>2) #0089 4711"
      ],
      "execution_count": 13,
      "outputs": [
        {
          "output_type": "stream",
          "name": "stdout",
          "text": [
            "49\n",
            "-61\n",
            "240\n",
            "15\n"
          ]
        }
      ]
    },
    {
      "cell_type": "markdown",
      "metadata": {
        "id": "k2o-j18E9LXh"
      },
      "source": [
        "#**Assignment Operators**"
      ]
    },
    {
      "cell_type": "code",
      "metadata": {
        "colab": {
          "base_uri": "https://localhost:8080/"
        },
        "id": "w6qhtt9H9Rba",
        "outputId": "19c190be-39d0-4dd8-b0ab-05c2428b9764"
      },
      "source": [
        "x=2\n",
        "x+=8 #Same as x =x+8\n",
        "\n",
        "print(x) \n",
        "\n",
        "x"
      ],
      "execution_count": 11,
      "outputs": [
        {
          "output_type": "stream",
          "name": "stdout",
          "text": [
            "10\n"
          ]
        },
        {
          "output_type": "execute_result",
          "data": {
            "text/plain": [
              "10"
            ]
          },
          "metadata": {},
          "execution_count": 11
        }
      ]
    },
    {
      "cell_type": "markdown",
      "metadata": {
        "id": "mXM1621F9osb"
      },
      "source": [
        "#**Logic Operators**"
      ]
    },
    {
      "cell_type": "code",
      "metadata": {
        "colab": {
          "base_uri": "https://localhost:8080/"
        },
        "id": "DOEeZumI9sMR",
        "outputId": "9cc5c253-cb70-4fbb-e766-28a08d80979f"
      },
      "source": [
        "a=9\n",
        "b=10\n",
        "print( a>b and b==b)\n",
        "print( a>b or b==a)"
      ],
      "execution_count": 15,
      "outputs": [
        {
          "output_type": "stream",
          "name": "stdout",
          "text": [
            "False\n",
            "False\n"
          ]
        }
      ]
    },
    {
      "cell_type": "markdown",
      "metadata": {
        "id": "j3e-A9ZQ9u3j"
      },
      "source": [
        "#**Identity Operators**"
      ]
    },
    {
      "cell_type": "code",
      "metadata": {
        "colab": {
          "base_uri": "https://localhost:8080/"
        },
        "id": "Z7AbbilD90pe",
        "outputId": "e962c128-5967-400c-cadf-c37db59bf56d"
      },
      "source": [
        "print(a is a)\n",
        "print(a is not b)\n",
        "print(a is not a)"
      ],
      "execution_count": 16,
      "outputs": [
        {
          "output_type": "stream",
          "name": "stdout",
          "text": [
            "True\n",
            "True\n",
            "False\n"
          ]
        }
      ]
    }
  ]
}