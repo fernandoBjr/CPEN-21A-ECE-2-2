{
  "nbformat": 4,
  "nbformat_minor": 0,
  "metadata": {
    "colab": {
      "name": "Midterm Exam PYTHON FUNDAMENTALS",
      "provenance": [],
      "authorship_tag": "ABX9TyPBddO6QnuDHL9xvZi7JU7z",
      "include_colab_link": true
    },
    "kernelspec": {
      "name": "python3",
      "display_name": "Python 3"
    },
    "language_info": {
      "name": "python"
    }
  },
  "cells": [
    {
      "cell_type": "markdown",
      "metadata": {
        "id": "view-in-github",
        "colab_type": "text"
      },
      "source": [
        "<a href=\"https://colab.research.google.com/github/fernandoBjr/CPEN-21A-ECE-2-2/blob/main/Midterm_Exam_PYTHON_FUNDAMENTALS.ipynb\" target=\"_parent\"><img src=\"https://colab.research.google.com/assets/colab-badge.svg\" alt=\"Open In Colab\"/></a>"
      ]
    },
    {
      "cell_type": "markdown",
      "metadata": {
        "id": "jXC4pQlduRrk"
      },
      "source": [
        "#**PROBLEM STATEMENT 1**"
      ]
    },
    {
      "cell_type": "code",
      "metadata": {
        "colab": {
          "base_uri": "https://localhost:8080/"
        },
        "id": "lKMRpjNfuYbE",
        "outputId": "d4eea6b4-734b-447c-dde0-6b6f6db894ca"
      },
      "source": [
        "name = \"Name: Buño, Fernando Jr, L.\"\n",
        "studentnumber = \"Student Number: 202013292\"\n",
        "age = \"Age: 11\"\n",
        "birthday = \"Birthday: April 11, 2001\"\n",
        "address = \"Addres: B 8 L 1 Brazil Street Langkaan II Dasma Cavite\"\n",
        "course = \"Course: Electrical Communication Engineering\"\n",
        "gwa = \"GWA: 1.75\"\n",
        "\n",
        "print(name)\n",
        "print(studentnumber)\n",
        "print(age)\n",
        "print(birthday)\n",
        "print(address)\n",
        "print(course)\n",
        "print(gwa)\n"
      ],
      "execution_count": null,
      "outputs": [
        {
          "output_type": "stream",
          "name": "stdout",
          "text": [
            "Name: Buño, Fernando Jr, L.\n",
            "Student Number: 202013292\n",
            "Age: 11\n",
            "Birthday: April 11, 2001\n",
            "Addres: B 8 L 1 Brazil Street Langkaan II Dasma Cavite\n",
            "Course: Electrical Communication Engineering\n",
            "GWA: 1.75\n"
          ]
        }
      ]
    },
    {
      "cell_type": "markdown",
      "metadata": {
        "id": "RUThmx6Axegz"
      },
      "source": [
        "#**PROBLEM STATEMENT 2**"
      ]
    },
    {
      "cell_type": "code",
      "metadata": {
        "colab": {
          "base_uri": "https://localhost:8080/"
        },
        "id": "6jdDZ5CbxifJ",
        "outputId": "6033ee39-c9a4-418d-d4be-1f800acc74cf"
      },
      "source": [
        "n = 4\n",
        "answ = \"Y\"\n",
        "\n",
        "print(2<n) and (n<6)\n",
        "print(2<n) or (n==6)\n",
        "print(not(2<n)) or (n==6)\n",
        "print(not(n<6))\n",
        "print(answ==\"Y\") or (answ==\"y\")\n",
        "print(answ==\"Y\") and (answ==\"y\")\n",
        "print(not(answ==\"y\"))\n",
        "print((2<n)and(n==5+1)) or (answ==\"No\")\n",
        "print(n==2)and(n==7) or (answ==\"Y\")\n",
        "print(n==2) and (n==7) or(answ==\"Y\")"
      ],
      "execution_count": null,
      "outputs": [
        {
          "output_type": "stream",
          "name": "stdout",
          "text": [
            "True\n",
            "True\n",
            "False\n",
            "False\n",
            "True\n",
            "True\n",
            "True\n",
            "False\n",
            "False\n",
            "False\n"
          ]
        },
        {
          "output_type": "execute_result",
          "data": {
            "text/plain": [
              "True"
            ]
          },
          "metadata": {},
          "execution_count": 41
        }
      ]
    },
    {
      "cell_type": "markdown",
      "metadata": {
        "id": "0xSsaPqQ1urm"
      },
      "source": [
        "##**PROBLEM STATEMENT 3**"
      ]
    },
    {
      "cell_type": "code",
      "metadata": {
        "colab": {
          "base_uri": "https://localhost:8080/"
        },
        "id": "9m3Tfpno1xDK",
        "outputId": "918a4425-e8d2-4b3c-89c4-c313e0fce917"
      },
      "source": [
        "x = 2\n",
        "y = -3\n",
        "w = 7\n",
        "z = -10\n",
        "\n",
        "print(x/y)\n",
        "print(w/y/x)\n",
        "print(z/y%x)\n",
        "print(x%-y*w)\n",
        "print(x%y)\n",
        "print(z%w-y/x*5+5)\n",
        "print(9-x%(2+y))\n",
        "print(z//w)\n",
        "print((2+y)**2)\n",
        "print(w/x*2)"
      ],
      "execution_count": null,
      "outputs": [
        {
          "output_type": "stream",
          "name": "stdout",
          "text": [
            "-0.6666666666666666\n",
            "-1.1666666666666667\n",
            "1.3333333333333335\n",
            "14\n",
            "-1\n",
            "16.5\n",
            "9\n",
            "-2\n",
            "1\n",
            "7.0\n"
          ]
        }
      ]
    }
  ]
}