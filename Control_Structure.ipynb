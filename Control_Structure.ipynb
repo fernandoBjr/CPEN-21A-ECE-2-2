{
  "nbformat": 4,
  "nbformat_minor": 0,
  "metadata": {
    "colab": {
      "name": "Control_Structure.ipynb",
      "provenance": [],
      "authorship_tag": "ABX9TyM8lHw0mo6UmoS94yaHOHOT",
      "include_colab_link": true
    },
    "kernelspec": {
      "name": "python3",
      "display_name": "Python 3"
    },
    "language_info": {
      "name": "python"
    }
  },
  "cells": [
    {
      "cell_type": "markdown",
      "metadata": {
        "id": "view-in-github",
        "colab_type": "text"
      },
      "source": [
        "<a href=\"https://colab.research.google.com/github/fernandoBjr/CPEN-21A-ECE-2-2/blob/main/Control_Structure.ipynb\" target=\"_parent\"><img src=\"https://colab.research.google.com/assets/colab-badge.svg\" alt=\"Open In Colab\"/></a>"
      ]
    },
    {
      "cell_type": "markdown",
      "metadata": {
        "id": "nB-6DhUz_vA1"
      },
      "source": [
        "##**If statements**"
      ]
    },
    {
      "cell_type": "code",
      "metadata": {
        "colab": {
          "base_uri": "https://localhost:8080/"
        },
        "id": "eXQzazae_1He",
        "outputId": "629e8007-9220-4f0b-a484-45b85917c83a"
      },
      "source": [
        "a=12\n",
        "b=100\n",
        "if b>a:\n",
        "  print(\"b is greater than a\")"
      ],
      "execution_count": null,
      "outputs": [
        {
          "output_type": "stream",
          "name": "stdout",
          "text": [
            "b is greater than a\n"
          ]
        }
      ]
    },
    {
      "cell_type": "markdown",
      "metadata": {
        "id": "xIVKAu8q_3fl"
      },
      "source": [
        "##**Elif Statement**"
      ]
    },
    {
      "cell_type": "code",
      "metadata": {
        "colab": {
          "base_uri": "https://localhost:8080/"
        },
        "id": "T0HOgpJd_6p6",
        "outputId": "f7ba2f2e-e384-4daa-e13a-3c5e77c4c88f"
      },
      "source": [
        "a=12\n",
        "b=100\n",
        "if b>a:\n",
        "  print(\"b is less than a\")\n",
        "elif b>a:\n",
        "  print(\"b is greater than a\")"
      ],
      "execution_count": null,
      "outputs": [
        {
          "output_type": "stream",
          "name": "stdout",
          "text": [
            "b is less than a\n"
          ]
        }
      ]
    },
    {
      "cell_type": "markdown",
      "metadata": {
        "id": "kknoiFNA_8UM"
      },
      "source": [
        "##**Else Statement**"
      ]
    },
    {
      "cell_type": "code",
      "metadata": {
        "colab": {
          "base_uri": "https://localhost:8080/"
        },
        "id": "oz40NN5l__E1",
        "outputId": "710f4d0c-a284-47bc-8cbc-ec955617c778"
      },
      "source": [
        "a=12\n",
        "b=12\n",
        "if b>a:\n",
        "  print(\"b is less than a\")\n",
        "elif b>a:\n",
        "  print(\"b is greater than a\")\n",
        "else:\n",
        "  print(\"a is equal than b\")"
      ],
      "execution_count": null,
      "outputs": [
        {
          "output_type": "stream",
          "name": "stdout",
          "text": [
            "a is equal than b\n"
          ]
        }
      ]
    },
    {
      "cell_type": "markdown",
      "metadata": {
        "id": "8tqk2xdXADKv"
      },
      "source": [
        "##**Short Hand If..Else**"
      ]
    },
    {
      "cell_type": "code",
      "metadata": {
        "colab": {
          "base_uri": "https://localhost:8080/"
        },
        "id": "Pop8TDOhAHCZ",
        "outputId": "9ded3167-88da-4e2a-a4a3-50fe18eb817b"
      },
      "source": [
        "a=2\n",
        "b=330\n",
        "print(\"A\") if a>b else print(\"B\")"
      ],
      "execution_count": null,
      "outputs": [
        {
          "output_type": "stream",
          "name": "stdout",
          "text": [
            "B\n"
          ]
        }
      ]
    },
    {
      "cell_type": "markdown",
      "metadata": {
        "id": "3j5xvxQJAI2G"
      },
      "source": [
        "##**And-both Conditions are True**"
      ]
    },
    {
      "cell_type": "code",
      "metadata": {
        "colab": {
          "base_uri": "https://localhost:8080/"
        },
        "id": "05Db2RiOALgN",
        "outputId": "0d4a74e5-f231-4e76-a905-874e53cee732"
      },
      "source": [
        "a=200\n",
        "b=33\n",
        "c=500\n",
        "\n",
        "if a>b and c>a:\n",
        "  print(\"The conditions need to be True\")"
      ],
      "execution_count": null,
      "outputs": [
        {
          "output_type": "stream",
          "name": "stdout",
          "text": [
            "The conditions need to be True\n"
          ]
        }
      ]
    },
    {
      "cell_type": "markdown",
      "metadata": {
        "id": "9LEoph__AM9v"
      },
      "source": [
        "##**Or Conditons**"
      ]
    },
    {
      "cell_type": "code",
      "metadata": {
        "colab": {
          "base_uri": "https://localhost:8080/"
        },
        "id": "ave_s1ZVAO7P",
        "outputId": "6ec31dea-975a-485f-e4ff-e34aeb222d1d"
      },
      "source": [
        "a=200\n",
        "b=33\n",
        "c=500\n",
        "\n",
        "if a>b or c<a:\n",
        "  print(\"One of the conditions is True\")"
      ],
      "execution_count": null,
      "outputs": [
        {
          "output_type": "stream",
          "name": "stdout",
          "text": [
            "One of the conditions is True\n"
          ]
        }
      ]
    },
    {
      "cell_type": "markdown",
      "metadata": {
        "id": "fxBYOQbCAQfs"
      },
      "source": [
        "##**Nested If**"
      ]
    },
    {
      "cell_type": "code",
      "metadata": {
        "colab": {
          "base_uri": "https://localhost:8080/"
        },
        "id": "N0KSRtcTAS_r",
        "outputId": "798a7a13-8f6e-4386-90e9-7da6ea5f65a1"
      },
      "source": [
        "x=41\n",
        "\n",
        "if x>10:\n",
        "  print(\"Above 10\")\n",
        "  if x>20:\n",
        "    print(\"Above 20\")\n",
        "  else:\n",
        "    print(\"Not above 20\")"
      ],
      "execution_count": null,
      "outputs": [
        {
          "output_type": "stream",
          "name": "stdout",
          "text": [
            "Above 10\n",
            "Above 20\n"
          ]
        }
      ]
    },
    {
      "cell_type": "markdown",
      "metadata": {
        "id": "xOvEPSIvAU5h"
      },
      "source": [
        "##**Nested If..Else**"
      ]
    },
    {
      "cell_type": "code",
      "metadata": {
        "colab": {
          "base_uri": "https://localhost:8080/"
        },
        "id": "4-d2o1X6AZ6i",
        "outputId": "eabf60d0-3d17-4eff-f7b5-2fb442d56875"
      },
      "source": [
        "x=41\n",
        "\n",
        "if x>10:\n",
        "  print(\"Above 10\")\n",
        "  if x>20:\n",
        "    print(\"Above 20\")\n",
        "  else:\n",
        "    print(\"Not above 20\")\n",
        "else:\n",
        "  print(\"Below 10\")"
      ],
      "execution_count": null,
      "outputs": [
        {
          "output_type": "stream",
          "name": "stdout",
          "text": [
            "Above 10\n",
            "Above 20\n"
          ]
        }
      ]
    },
    {
      "cell_type": "markdown",
      "metadata": {
        "id": "6gAcZg1PAcoY"
      },
      "source": [
        "##**Example 1**"
      ]
    },
    {
      "cell_type": "markdown",
      "metadata": {
        "id": "oQzy6LKxAr5w"
      },
      "source": [
        "write a program that determines if the input age is qualified to vote or not. The qualifying age is 18 years old above."
      ]
    },
    {
      "cell_type": "code",
      "metadata": {
        "colab": {
          "base_uri": "https://localhost:8080/"
        },
        "id": "3U_NQoJAAvPC",
        "outputId": "1ef7d32c-7b36-463b-b6d3-ace21b15fe93"
      },
      "source": [
        "a=14\n",
        "\n",
        "if a>=18:\n",
        "  print(\"Qualified to Vote\")\n",
        "else:\n",
        "  print(\"Not Qualified to Vote\")"
      ],
      "execution_count": null,
      "outputs": [
        {
          "output_type": "stream",
          "name": "stdout",
          "text": [
            "Not Qualified to Vote\n"
          ]
        }
      ]
    },
    {
      "cell_type": "markdown",
      "metadata": {
        "id": "kWhgpMGgCKs9"
      },
      "source": [
        "##**Example 2**"
      ]
    },
    {
      "cell_type": "markdown",
      "metadata": {
        "id": "_oImqX2qCQEG"
      },
      "source": [
        "Write a program that determines if the input numbers is POSITIVE or NEGATIVE. Consider as positive (considering that it contains no negative sign)"
      ]
    },
    {
      "cell_type": "code",
      "metadata": {
        "id": "gtazcNgtCSUN",
        "outputId": "eaa51450-69ab-47f8-d94e-8b9cd90c11c4",
        "colab": {
          "base_uri": "https://localhost:8080/"
        }
      },
      "source": [
        "number = int(input(\"ENTER a number\"))\n",
        "if number>0:\n",
        "  print(\"POSITIVE NUMBER\")\n",
        "elif number==0:\n",
        "  print(\"ENTERED ZERO NUMBER\")\n",
        "else:\n",
        "  print(\"NEGATIVE NUMBER\")"
      ],
      "execution_count": 1,
      "outputs": [
        {
          "output_type": "stream",
          "name": "stdout",
          "text": [
            "ENTER a number1\n",
            "POSITIVE NUMBER\n"
          ]
        }
      ]
    },
    {
      "cell_type": "markdown",
      "metadata": {
        "id": "6am3VTHhCVui"
      },
      "source": [
        "##**Example 3**"
      ]
    },
    {
      "cell_type": "markdown",
      "metadata": {
        "id": "eBEsZ9iWCitm"
      },
      "source": [
        "Write a program to determine if the grades are:"
      ]
    },
    {
      "cell_type": "code",
      "metadata": {
        "id": "rix7JauTCjJu",
        "outputId": "788d1d27-057d-49a2-81cd-214d705b6695",
        "colab": {
          "base_uri": "https://localhost:8080/"
        }
      },
      "source": [
        "grade = int(input(\"ENTER a number\"))\n",
        "if grade>=75:\n",
        "  print(\"Passed\")\n",
        "elif grade==74:\n",
        "  print(\"Remedial\")\n",
        "else:\n",
        "  print(\"Failed\")"
      ],
      "execution_count": 2,
      "outputs": [
        {
          "output_type": "stream",
          "name": "stdout",
          "text": [
            "ENTER a number70\n",
            "Failed\n"
          ]
        }
      ]
    }
  ]
}