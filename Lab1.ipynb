{
  "nbformat": 4,
  "nbformat_minor": 0,
  "metadata": {
    "colab": {
      "name": "Lab1.ipynb",
      "provenance": [],
      "authorship_tag": "ABX9TyNC3XKJrZ6WZhiuoCjuex30",
      "include_colab_link": true
    },
    "kernelspec": {
      "name": "python3",
      "display_name": "Python 3"
    },
    "language_info": {
      "name": "python"
    }
  },
  "cells": [
    {
      "cell_type": "markdown",
      "metadata": {
        "id": "view-in-github",
        "colab_type": "text"
      },
      "source": [
        "<a href=\"https://colab.research.google.com/github/fernandoBjr/CPEN-21A-ECE-2-2/blob/main/Lab1.ipynb\" target=\"_parent\"><img src=\"https://colab.research.google.com/assets/colab-badge.svg\" alt=\"Open In Colab\"/></a>"
      ]
    },
    {
      "cell_type": "markdown",
      "metadata": {
        "id": "k0GkKIWYja0E"
      },
      "source": [
        "#LABORATORY1"
      ]
    },
    {
      "cell_type": "code",
      "metadata": {
        "colab": {
          "base_uri": "https://localhost:8080/"
        },
        "id": "OMXJW__NjZPM",
        "outputId": "d47e01d2-3d05-4b0b-a3a3-40406ad8f6ad"
      },
      "source": [
        "print (\"Welcome to python programming\")"
      ],
      "execution_count": null,
      "outputs": [
        {
          "output_type": "stream",
          "name": "stdout",
          "text": [
            "Welcome to python programming\n"
          ]
        }
      ]
    },
    {
      "cell_type": "code",
      "metadata": {
        "id": "SQhh5mGpiqLL",
        "colab": {
          "base_uri": "https://localhost:8080/"
        },
        "outputId": "09f4ee32-9a60-4f88-dc81-7afc0a807e1c"
      },
      "source": [
        "name = \"Buño, Fernando Jr, L\"\n",
        "address = \"BLK 8 LOT1 Brazail st. Langkaan II DASMA CAVITE\"\n",
        "age = \"20\"\n",
        "email = \"fernando.buno@cvsu.edu.ph\"\n",
        "\n",
        "print(name)\n",
        "print(address)\n",
        "print(age)\n",
        "print(email)\n"
      ],
      "execution_count": null,
      "outputs": [
        {
          "output_type": "stream",
          "name": "stdout",
          "text": [
            "Buño, Fernando Jr, L\n",
            "BLK 8 LOT1 Brazail st. Langkaan II DASMA CAVITE\n",
            "20\n",
            "fernando.buno@cvsu.edu.ph\n"
          ]
        }
      ]
    }
  ]
}