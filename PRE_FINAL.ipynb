{
  "nbformat": 4,
  "nbformat_minor": 0,
  "metadata": {
    "colab": {
      "name": "PRE-FINAL.ipynb",
      "provenance": [],
      "authorship_tag": "ABX9TyNKZVzEA4GcoIuOIAzh91Pk",
      "include_colab_link": true
    },
    "kernelspec": {
      "name": "python3",
      "display_name": "Python 3"
    },
    "language_info": {
      "name": "python"
    }
  },
  "cells": [
    {
      "cell_type": "markdown",
      "metadata": {
        "id": "view-in-github",
        "colab_type": "text"
      },
      "source": [
        "<a href=\"https://colab.research.google.com/github/fernandoBjr/CPEN-21A-ECE-2-2/blob/main/PRE_FINAL.ipynb\" target=\"_parent\"><img src=\"https://colab.research.google.com/assets/colab-badge.svg\" alt=\"Open In Colab\"/></a>"
      ]
    },
    {
      "cell_type": "markdown",
      "source": [
        "##**FINAL EXAM**"
      ],
      "metadata": {
        "id": "QyFJGYOColvr"
      }
    },
    {
      "cell_type": "markdown",
      "source": [
        "##**PROBLEM STATEMENT 1.**##"
      ],
      "metadata": {
        "id": "hZaxuErRnlOv"
      }
    },
    {
      "cell_type": "markdown",
      "source": [
        "Create a Python program that will produce an output of sum of 10 numbers less than 5\n",
        "using FOR LOOP statement. (30 points)"
      ],
      "metadata": {
        "id": "zHEuM4MPnmCZ"
      }
    },
    {
      "cell_type": "code",
      "execution_count": 3,
      "metadata": {
        "colab": {
          "base_uri": "https://localhost:8080/"
        },
        "id": "7azRpKQBnkqH",
        "outputId": "985a8103-7354-43d0-eaa6-24c15ff90cdc"
      },
      "outputs": [
        {
          "output_type": "stream",
          "name": "stdout",
          "text": [
            "-6\n",
            "-5\n",
            "-4\n",
            "-3\n",
            "-2\n",
            "-1\n",
            "0\n",
            "1\n",
            "2\n",
            "3\n",
            "4\n",
            "5\n",
            "6\n",
            "7\n",
            "8\n",
            "9\n",
            "10\n",
            "11\n",
            "12\n",
            "13\n",
            "The summation of those numbers that are less than 5 is: -11\n"
          ]
        }
      ],
      "source": [
        "sum=0\n",
        "for k in range(0,14):\n",
        " print(k)\n",
        " if k<5:\n",
        "  sum=sum+k\n",
        "print(\"The summation of those numbers that are less than 5 is:\",sum)"
      ]
    },
    {
      "cell_type": "markdown",
      "source": [
        ""
      ],
      "metadata": {
        "id": "FrTALHeJnvt8"
      }
    },
    {
      "cell_type": "markdown",
      "source": [
        "##**PROBLEM STATEMENT 2**"
      ],
      "metadata": {
        "id": "0IqWi-9Znvwv"
      }
    },
    {
      "cell_type": "markdown",
      "source": [
        "Create a Python program that will produce accept five numbers and determine the sum of\n",
        "first and last number among the five numbers entered using WHILE LOOP (35 points)"
      ],
      "metadata": {
        "id": "GZ8sqBPknx7z"
      }
    },
    {
      "cell_type": "code",
      "source": [
        "k = 1\n",
        "sum = 0\n",
        "print (\"Enter 5 numbers: \")\n",
        "while k <= 5:\n",
        " number = int(input (\"\"))\n",
        " if k==1 or k==5:\n",
        "  sum = sum + number\n",
        " k=k+1\n",
        "print(\"The sum of first and last number among 5 numbers is :\",sum)5"
      ],
      "metadata": {
        "colab": {
          "base_uri": "https://localhost:8080/"
        },
        "id": "x19OrPzen1w2",
        "outputId": "31becd44-1f08-41be-b49e-4a00fd6c3574"
      },
      "execution_count": 4,
      "outputs": [
        {
          "output_type": "stream",
          "name": "stdout",
          "text": [
            "Enter 5 numbers: \n",
            "5\n",
            "5\n",
            "5\n",
            "5\n",
            "5\n",
            "The sum of first and last number among 5 numbers is : 10\n"
          ]
        }
      ]
    },
    {
      "cell_type": "markdown",
      "source": [
        "##**PROBLEM STATEMENT 3**"
      ],
      "metadata": {
        "id": "I-WxOqNOoDtr"
      }
    },
    {
      "cell_type": "markdown",
      "source": [
        "Create a Python program to calculate student grades. It accepts a numerical grade as input and it will display the character grade as output based on the given scale: (Use Nested-IF-Else statement)\t(35 points)"
      ],
      "metadata": {
        "id": "cyYemO-ioFRZ"
      }
    },
    {
      "cell_type": "code",
      "source": [
        "grade = int(input(\"Enter your grade :\"))\n",
        "\n",
        "if grade >=100:\n",
        " print(\"A\")\n",
        "elif grade >=80:\n",
        " print(\"B\")\n",
        "elif grade >=75:\n",
        " print(\"C\")\n",
        "elif grade >=60:\n",
        " print(\"D\")\n",
        "else:\n",
        " print(\"F\")"
      ],
      "metadata": {
        "colab": {
          "base_uri": "https://localhost:8080/"
        },
        "id": "fpkUYgH7oLQ4",
        "outputId": "02f685fb-607a-44bb-b988-41f787d6db15"
      },
      "execution_count": 7,
      "outputs": [
        {
          "output_type": "stream",
          "name": "stdout",
          "text": [
            "Enter your grade :80\n",
            "B\n"
          ]
        }
      ]
    }
  ]
}