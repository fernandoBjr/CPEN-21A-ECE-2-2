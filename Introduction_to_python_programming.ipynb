{
  "nbformat": 4,
  "nbformat_minor": 0,
  "metadata": {
    "colab": {
      "name": "Introduction to python programming",
      "provenance": [],
      "authorship_tag": "ABX9TyNwCUGWykZqgrWR09hv5FDO",
      "include_colab_link": true
    },
    "kernelspec": {
      "name": "python3",
      "display_name": "Python 3"
    },
    "language_info": {
      "name": "python"
    }
  },
  "cells": [
    {
      "cell_type": "markdown",
      "metadata": {
        "id": "view-in-github",
        "colab_type": "text"
      },
      "source": [
        "<a href=\"https://colab.research.google.com/github/fernandoBjr/CPEN-21A-ECE-2-2/blob/main/Introduction_to_python_programming.ipynb\" target=\"_parent\"><img src=\"https://colab.research.google.com/assets/colab-badge.svg\" alt=\"Open In Colab\"/></a>"
      ]
    },
    {
      "cell_type": "markdown",
      "metadata": {
        "id": "GlQLxMmQ5R_b"
      },
      "source": [
        "# REVIEW OF PYTHON"
      ]
    },
    {
      "cell_type": "code",
      "metadata": {
        "colab": {
          "base_uri": "https://localhost:8080/"
        },
        "id": "M0KDVuF55ZMt",
        "outputId": "cd208651-42cc-41a1-ab69-0bdbb15d4578"
      },
      "source": [
        "print('Hello world')"
      ],
      "execution_count": null,
      "outputs": [
        {
          "output_type": "stream",
          "name": "stdout",
          "text": [
            "Hello world\n"
          ]
        }
      ]
    },
    {
      "cell_type": "code",
      "metadata": {
        "colab": {
          "base_uri": "https://localhost:8080/"
        },
        "id": "P1Fmah8j5bKy",
        "outputId": "3af7f09c-0782-413f-e4d9-9b5879a6ba94"
      },
      "source": [
        "b = int (16)\n",
        "print (b)"
      ],
      "execution_count": null,
      "outputs": [
        {
          "output_type": "stream",
          "name": "stdout",
          "text": [
            "16\n"
          ]
        }
      ]
    },
    {
      "cell_type": "code",
      "metadata": {
        "colab": {
          "base_uri": "https://localhost:8080/"
        },
        "id": "Y8BHNNBY5da9",
        "outputId": "0d536e57-cea4-41ef-de40-59595f7305a3"
      },
      "source": [
        "a, b, c = 8, -1, 15\n",
        "c%=4\n",
        "print(c)"
      ],
      "execution_count": null,
      "outputs": [
        {
          "output_type": "stream",
          "name": "stdout",
          "text": [
            "3\n"
          ]
        }
      ]
    },
    {
      "cell_type": "code",
      "metadata": {
        "colab": {
          "base_uri": "https://localhost:8080/"
        },
        "id": "u29HIJF05dhh",
        "outputId": "69c2961e-356d-4055-b8d5-62ec63ca38ce"
      },
      "source": [
        "b = 4\n",
        "print(b)"
      ],
      "execution_count": null,
      "outputs": [
        {
          "output_type": "stream",
          "name": "stdout",
          "text": [
            "4\n"
          ]
        }
      ]
    },
    {
      "cell_type": "code",
      "metadata": {
        "colab": {
          "base_uri": "https://localhost:8080/"
        },
        "id": "4rAh3ptI5dnw",
        "outputId": "6b12bc90-957f-424e-a4f8-9be3f9806719"
      },
      "source": [
        "print(\"Ecoms\")"
      ],
      "execution_count": null,
      "outputs": [
        {
          "output_type": "stream",
          "name": "stdout",
          "text": [
            "Ecoms\n"
          ]
        }
      ]
    },
    {
      "cell_type": "code",
      "metadata": {
        "colab": {
          "base_uri": "https://localhost:8080/"
        },
        "id": "QdmwR1RN5jgS",
        "outputId": "479c0517-c623-452d-8299-e526be2fa047"
      },
      "source": [
        "x = 3\n",
        "y = 5\n",
        "print (x+y)"
      ],
      "execution_count": null,
      "outputs": [
        {
          "output_type": "stream",
          "name": "stdout",
          "text": [
            "8\n"
          ]
        }
      ]
    },
    {
      "cell_type": "code",
      "metadata": {
        "colab": {
          "base_uri": "https://localhost:8080/"
        },
        "id": "10NiLJNr5l6x",
        "outputId": "205c3c69-3afa-4dc3-9404-51f859482617"
      },
      "source": [
        "x = y = z =\"eight\"\n",
        "print(x)\n",
        "print(y)\n",
        "print(z)"
      ],
      "execution_count": null,
      "outputs": [
        {
          "output_type": "stream",
          "name": "stdout",
          "text": [
            "eight\n",
            "eight\n",
            "eight\n"
          ]
        }
      ]
    }
  ]
}